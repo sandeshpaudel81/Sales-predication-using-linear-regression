{
  "nbformat": 4,
  "nbformat_minor": 0,
  "metadata": {
    "colab": {
      "provenance": [],
      "authorship_tag": "ABX9TyPUMRCDpDL/N3z08wi1WrND"
    },
    "kernelspec": {
      "name": "python3",
      "display_name": "Python 3"
    },
    "language_info": {
      "name": "python"
    }
  },
  "cells": [
    {
      "cell_type": "code",
      "execution_count": 1,
      "metadata": {
        "id": "ngaqnrtMGCzH"
      },
      "outputs": [],
      "source": [
        "import numpy as np\n",
        "import pandas as pd"
      ]
    },
    {
      "cell_type": "code",
      "source": [
        "dataset_url = 'https://raw.githubusercontent.com/sandeshpaudel81/Sales-predication-using-linear-regression/main/Advertising.csv'\n",
        "data = pd.read_csv(dataset_url)"
      ],
      "metadata": {
        "id": "BFJr5WCnGoga"
      },
      "execution_count": 2,
      "outputs": []
    },
    {
      "cell_type": "code",
      "source": [
        "data.head()"
      ],
      "metadata": {
        "colab": {
          "base_uri": "https://localhost:8080/",
          "height": 206
        },
        "id": "AbVVf-vpIGbL",
        "outputId": "801b90aa-7b62-4884-dca9-ac9c5518b502"
      },
      "execution_count": 3,
      "outputs": [
        {
          "output_type": "execute_result",
          "data": {
            "text/plain": [
              "   Unnamed: 0     TV  Radio  Newspaper  Sales\n",
              "0           1  230.1   37.8       69.2   22.1\n",
              "1           2   44.5   39.3       45.1   10.4\n",
              "2           3   17.2   45.9       69.3    9.3\n",
              "3           4  151.5   41.3       58.5   18.5\n",
              "4           5  180.8   10.8       58.4   12.9"
            ],
            "text/html": [
              "\n",
              "  <div id=\"df-a73f12c8-8277-45d0-9137-e49894f4d666\">\n",
              "    <div class=\"colab-df-container\">\n",
              "      <div>\n",
              "<style scoped>\n",
              "    .dataframe tbody tr th:only-of-type {\n",
              "        vertical-align: middle;\n",
              "    }\n",
              "\n",
              "    .dataframe tbody tr th {\n",
              "        vertical-align: top;\n",
              "    }\n",
              "\n",
              "    .dataframe thead th {\n",
              "        text-align: right;\n",
              "    }\n",
              "</style>\n",
              "<table border=\"1\" class=\"dataframe\">\n",
              "  <thead>\n",
              "    <tr style=\"text-align: right;\">\n",
              "      <th></th>\n",
              "      <th>Unnamed: 0</th>\n",
              "      <th>TV</th>\n",
              "      <th>Radio</th>\n",
              "      <th>Newspaper</th>\n",
              "      <th>Sales</th>\n",
              "    </tr>\n",
              "  </thead>\n",
              "  <tbody>\n",
              "    <tr>\n",
              "      <th>0</th>\n",
              "      <td>1</td>\n",
              "      <td>230.1</td>\n",
              "      <td>37.8</td>\n",
              "      <td>69.2</td>\n",
              "      <td>22.1</td>\n",
              "    </tr>\n",
              "    <tr>\n",
              "      <th>1</th>\n",
              "      <td>2</td>\n",
              "      <td>44.5</td>\n",
              "      <td>39.3</td>\n",
              "      <td>45.1</td>\n",
              "      <td>10.4</td>\n",
              "    </tr>\n",
              "    <tr>\n",
              "      <th>2</th>\n",
              "      <td>3</td>\n",
              "      <td>17.2</td>\n",
              "      <td>45.9</td>\n",
              "      <td>69.3</td>\n",
              "      <td>9.3</td>\n",
              "    </tr>\n",
              "    <tr>\n",
              "      <th>3</th>\n",
              "      <td>4</td>\n",
              "      <td>151.5</td>\n",
              "      <td>41.3</td>\n",
              "      <td>58.5</td>\n",
              "      <td>18.5</td>\n",
              "    </tr>\n",
              "    <tr>\n",
              "      <th>4</th>\n",
              "      <td>5</td>\n",
              "      <td>180.8</td>\n",
              "      <td>10.8</td>\n",
              "      <td>58.4</td>\n",
              "      <td>12.9</td>\n",
              "    </tr>\n",
              "  </tbody>\n",
              "</table>\n",
              "</div>\n",
              "      <button class=\"colab-df-convert\" onclick=\"convertToInteractive('df-a73f12c8-8277-45d0-9137-e49894f4d666')\"\n",
              "              title=\"Convert this dataframe to an interactive table.\"\n",
              "              style=\"display:none;\">\n",
              "        \n",
              "  <svg xmlns=\"http://www.w3.org/2000/svg\" height=\"24px\"viewBox=\"0 0 24 24\"\n",
              "       width=\"24px\">\n",
              "    <path d=\"M0 0h24v24H0V0z\" fill=\"none\"/>\n",
              "    <path d=\"M18.56 5.44l.94 2.06.94-2.06 2.06-.94-2.06-.94-.94-2.06-.94 2.06-2.06.94zm-11 1L8.5 8.5l.94-2.06 2.06-.94-2.06-.94L8.5 2.5l-.94 2.06-2.06.94zm10 10l.94 2.06.94-2.06 2.06-.94-2.06-.94-.94-2.06-.94 2.06-2.06.94z\"/><path d=\"M17.41 7.96l-1.37-1.37c-.4-.4-.92-.59-1.43-.59-.52 0-1.04.2-1.43.59L10.3 9.45l-7.72 7.72c-.78.78-.78 2.05 0 2.83L4 21.41c.39.39.9.59 1.41.59.51 0 1.02-.2 1.41-.59l7.78-7.78 2.81-2.81c.8-.78.8-2.07 0-2.86zM5.41 20L4 18.59l7.72-7.72 1.47 1.35L5.41 20z\"/>\n",
              "  </svg>\n",
              "      </button>\n",
              "      \n",
              "  <style>\n",
              "    .colab-df-container {\n",
              "      display:flex;\n",
              "      flex-wrap:wrap;\n",
              "      gap: 12px;\n",
              "    }\n",
              "\n",
              "    .colab-df-convert {\n",
              "      background-color: #E8F0FE;\n",
              "      border: none;\n",
              "      border-radius: 50%;\n",
              "      cursor: pointer;\n",
              "      display: none;\n",
              "      fill: #1967D2;\n",
              "      height: 32px;\n",
              "      padding: 0 0 0 0;\n",
              "      width: 32px;\n",
              "    }\n",
              "\n",
              "    .colab-df-convert:hover {\n",
              "      background-color: #E2EBFA;\n",
              "      box-shadow: 0px 1px 2px rgba(60, 64, 67, 0.3), 0px 1px 3px 1px rgba(60, 64, 67, 0.15);\n",
              "      fill: #174EA6;\n",
              "    }\n",
              "\n",
              "    [theme=dark] .colab-df-convert {\n",
              "      background-color: #3B4455;\n",
              "      fill: #D2E3FC;\n",
              "    }\n",
              "\n",
              "    [theme=dark] .colab-df-convert:hover {\n",
              "      background-color: #434B5C;\n",
              "      box-shadow: 0px 1px 3px 1px rgba(0, 0, 0, 0.15);\n",
              "      filter: drop-shadow(0px 1px 2px rgba(0, 0, 0, 0.3));\n",
              "      fill: #FFFFFF;\n",
              "    }\n",
              "  </style>\n",
              "\n",
              "      <script>\n",
              "        const buttonEl =\n",
              "          document.querySelector('#df-a73f12c8-8277-45d0-9137-e49894f4d666 button.colab-df-convert');\n",
              "        buttonEl.style.display =\n",
              "          google.colab.kernel.accessAllowed ? 'block' : 'none';\n",
              "\n",
              "        async function convertToInteractive(key) {\n",
              "          const element = document.querySelector('#df-a73f12c8-8277-45d0-9137-e49894f4d666');\n",
              "          const dataTable =\n",
              "            await google.colab.kernel.invokeFunction('convertToInteractive',\n",
              "                                                     [key], {});\n",
              "          if (!dataTable) return;\n",
              "\n",
              "          const docLinkHtml = 'Like what you see? Visit the ' +\n",
              "            '<a target=\"_blank\" href=https://colab.research.google.com/notebooks/data_table.ipynb>data table notebook</a>'\n",
              "            + ' to learn more about interactive tables.';\n",
              "          element.innerHTML = '';\n",
              "          dataTable['output_type'] = 'display_data';\n",
              "          await google.colab.output.renderOutput(dataTable, element);\n",
              "          const docLink = document.createElement('div');\n",
              "          docLink.innerHTML = docLinkHtml;\n",
              "          element.appendChild(docLink);\n",
              "        }\n",
              "      </script>\n",
              "    </div>\n",
              "  </div>\n",
              "  "
            ]
          },
          "metadata": {},
          "execution_count": 3
        }
      ]
    },
    {
      "cell_type": "code",
      "source": [
        "dataArray = np.loadtxt(dataset_url, skiprows=1, usecols=(1,2,3,4), delimiter=',')"
      ],
      "metadata": {
        "id": "cBVGsJWNJUG7"
      },
      "execution_count": 4,
      "outputs": []
    },
    {
      "cell_type": "code",
      "source": [
        "print(dataArray.shape)"
      ],
      "metadata": {
        "colab": {
          "base_uri": "https://localhost:8080/"
        },
        "id": "jLsvh5v3J6Vb",
        "outputId": "6653309f-ebf1-45bc-ecc8-b38539167c55"
      },
      "execution_count": 5,
      "outputs": [
        {
          "output_type": "stream",
          "name": "stdout",
          "text": [
            "(200, 4)\n"
          ]
        }
      ]
    },
    {
      "cell_type": "code",
      "source": [
        "X_train = dataArray[:160, :3]"
      ],
      "metadata": {
        "id": "b_GpIer5Kte4"
      },
      "execution_count": 6,
      "outputs": []
    },
    {
      "cell_type": "code",
      "source": [
        "print(X_train)"
      ],
      "metadata": {
        "colab": {
          "base_uri": "https://localhost:8080/"
        },
        "id": "JNLGQsRrLUM1",
        "outputId": "03b4dbc9-c9fc-4a3a-9bdb-001185171ffe"
      },
      "execution_count": 7,
      "outputs": [
        {
          "output_type": "stream",
          "name": "stdout",
          "text": [
            "[[230.1  37.8  69.2]\n",
            " [ 44.5  39.3  45.1]\n",
            " [ 17.2  45.9  69.3]\n",
            " [151.5  41.3  58.5]\n",
            " [180.8  10.8  58.4]\n",
            " [  8.7  48.9  75. ]\n",
            " [ 57.5  32.8  23.5]\n",
            " [120.2  19.6  11.6]\n",
            " [  8.6   2.1   1. ]\n",
            " [199.8   2.6  21.2]\n",
            " [ 66.1   5.8  24.2]\n",
            " [214.7  24.    4. ]\n",
            " [ 23.8  35.1  65.9]\n",
            " [ 97.5   7.6   7.2]\n",
            " [204.1  32.9  46. ]\n",
            " [195.4  47.7  52.9]\n",
            " [ 67.8  36.6 114. ]\n",
            " [281.4  39.6  55.8]\n",
            " [ 69.2  20.5  18.3]\n",
            " [147.3  23.9  19.1]\n",
            " [218.4  27.7  53.4]\n",
            " [237.4   5.1  23.5]\n",
            " [ 13.2  15.9  49.6]\n",
            " [228.3  16.9  26.2]\n",
            " [ 62.3  12.6  18.3]\n",
            " [262.9   3.5  19.5]\n",
            " [142.9  29.3  12.6]\n",
            " [240.1  16.7  22.9]\n",
            " [248.8  27.1  22.9]\n",
            " [ 70.6  16.   40.8]\n",
            " [292.9  28.3  43.2]\n",
            " [112.9  17.4  38.6]\n",
            " [ 97.2   1.5  30. ]\n",
            " [265.6  20.    0.3]\n",
            " [ 95.7   1.4   7.4]\n",
            " [290.7   4.1   8.5]\n",
            " [266.9  43.8   5. ]\n",
            " [ 74.7  49.4  45.7]\n",
            " [ 43.1  26.7  35.1]\n",
            " [228.   37.7  32. ]\n",
            " [202.5  22.3  31.6]\n",
            " [177.   33.4  38.7]\n",
            " [293.6  27.7   1.8]\n",
            " [206.9   8.4  26.4]\n",
            " [ 25.1  25.7  43.3]\n",
            " [175.1  22.5  31.5]\n",
            " [ 89.7   9.9  35.7]\n",
            " [239.9  41.5  18.5]\n",
            " [227.2  15.8  49.9]\n",
            " [ 66.9  11.7  36.8]\n",
            " [199.8   3.1  34.6]\n",
            " [100.4   9.6   3.6]\n",
            " [216.4  41.7  39.6]\n",
            " [182.6  46.2  58.7]\n",
            " [262.7  28.8  15.9]\n",
            " [198.9  49.4  60. ]\n",
            " [  7.3  28.1  41.4]\n",
            " [136.2  19.2  16.6]\n",
            " [210.8  49.6  37.7]\n",
            " [210.7  29.5   9.3]\n",
            " [ 53.5   2.   21.4]\n",
            " [261.3  42.7  54.7]\n",
            " [239.3  15.5  27.3]\n",
            " [102.7  29.6   8.4]\n",
            " [131.1  42.8  28.9]\n",
            " [ 69.    9.3   0.9]\n",
            " [ 31.5  24.6   2.2]\n",
            " [139.3  14.5  10.2]\n",
            " [237.4  27.5  11. ]\n",
            " [216.8  43.9  27.2]\n",
            " [199.1  30.6  38.7]\n",
            " [109.8  14.3  31.7]\n",
            " [ 26.8  33.   19.3]\n",
            " [129.4   5.7  31.3]\n",
            " [213.4  24.6  13.1]\n",
            " [ 16.9  43.7  89.4]\n",
            " [ 27.5   1.6  20.7]\n",
            " [120.5  28.5  14.2]\n",
            " [  5.4  29.9   9.4]\n",
            " [116.    7.7  23.1]\n",
            " [ 76.4  26.7  22.3]\n",
            " [239.8   4.1  36.9]\n",
            " [ 75.3  20.3  32.5]\n",
            " [ 68.4  44.5  35.6]\n",
            " [213.5  43.   33.8]\n",
            " [193.2  18.4  65.7]\n",
            " [ 76.3  27.5  16. ]\n",
            " [110.7  40.6  63.2]\n",
            " [ 88.3  25.5  73.4]\n",
            " [109.8  47.8  51.4]\n",
            " [134.3   4.9   9.3]\n",
            " [ 28.6   1.5  33. ]\n",
            " [217.7  33.5  59. ]\n",
            " [250.9  36.5  72.3]\n",
            " [107.4  14.   10.9]\n",
            " [163.3  31.6  52.9]\n",
            " [197.6   3.5   5.9]\n",
            " [184.9  21.   22. ]\n",
            " [289.7  42.3  51.2]\n",
            " [135.2  41.7  45.9]\n",
            " [222.4   4.3  49.8]\n",
            " [296.4  36.3 100.9]\n",
            " [280.2  10.1  21.4]\n",
            " [187.9  17.2  17.9]\n",
            " [238.2  34.3   5.3]\n",
            " [137.9  46.4  59. ]\n",
            " [ 25.   11.   29.7]\n",
            " [ 90.4   0.3  23.2]\n",
            " [ 13.1   0.4  25.6]\n",
            " [255.4  26.9   5.5]\n",
            " [225.8   8.2  56.5]\n",
            " [241.7  38.   23.2]\n",
            " [175.7  15.4   2.4]\n",
            " [209.6  20.6  10.7]\n",
            " [ 78.2  46.8  34.5]\n",
            " [ 75.1  35.   52.7]\n",
            " [139.2  14.3  25.6]\n",
            " [ 76.4   0.8  14.8]\n",
            " [125.7  36.9  79.2]\n",
            " [ 19.4  16.   22.3]\n",
            " [141.3  26.8  46.2]\n",
            " [ 18.8  21.7  50.4]\n",
            " [224.    2.4  15.6]\n",
            " [123.1  34.6  12.4]\n",
            " [229.5  32.3  74.2]\n",
            " [ 87.2  11.8  25.9]\n",
            " [  7.8  38.9  50.6]\n",
            " [ 80.2   0.    9.2]\n",
            " [220.3  49.    3.2]\n",
            " [ 59.6  12.   43.1]\n",
            " [  0.7  39.6   8.7]\n",
            " [265.2   2.9  43. ]\n",
            " [  8.4  27.2   2.1]\n",
            " [219.8  33.5  45.1]\n",
            " [ 36.9  38.6  65.6]\n",
            " [ 48.3  47.    8.5]\n",
            " [ 25.6  39.    9.3]\n",
            " [273.7  28.9  59.7]\n",
            " [ 43.   25.9  20.5]\n",
            " [184.9  43.9   1.7]\n",
            " [ 73.4  17.   12.9]\n",
            " [193.7  35.4  75.6]\n",
            " [220.5  33.2  37.9]\n",
            " [104.6   5.7  34.4]\n",
            " [ 96.2  14.8  38.9]\n",
            " [140.3   1.9   9. ]\n",
            " [240.1   7.3   8.7]\n",
            " [243.2  49.   44.3]\n",
            " [ 38.   40.3  11.9]\n",
            " [ 44.7  25.8  20.6]\n",
            " [280.7  13.9  37. ]\n",
            " [121.    8.4  48.7]\n",
            " [197.6  23.3  14.2]\n",
            " [171.3  39.7  37.7]\n",
            " [187.8  21.1   9.5]\n",
            " [  4.1  11.6   5.7]\n",
            " [ 93.9  43.5  50.5]\n",
            " [149.8   1.3  24.3]\n",
            " [ 11.7  36.9  45.2]\n",
            " [131.7  18.4  34.6]]\n"
          ]
        }
      ]
    },
    {
      "cell_type": "code",
      "source": [
        "print(X_train.shape)"
      ],
      "metadata": {
        "colab": {
          "base_uri": "https://localhost:8080/"
        },
        "id": "KuNn_jEeL0Ht",
        "outputId": "91198f89-d336-4758-ec39-089b7a62fc71"
      },
      "execution_count": 8,
      "outputs": [
        {
          "output_type": "stream",
          "name": "stdout",
          "text": [
            "(160, 3)\n"
          ]
        }
      ]
    },
    {
      "cell_type": "code",
      "source": [
        "Y_train = dataArray[:160, -1]"
      ],
      "metadata": {
        "id": "AwIYBlFnL-JN"
      },
      "execution_count": 9,
      "outputs": []
    },
    {
      "cell_type": "code",
      "source": [
        "print(Y_train.shape)"
      ],
      "metadata": {
        "colab": {
          "base_uri": "https://localhost:8080/"
        },
        "id": "OLhX8YEoMHK7",
        "outputId": "f0f834dd-8378-4f2f-dc51-a145bb3aec16"
      },
      "execution_count": 10,
      "outputs": [
        {
          "output_type": "stream",
          "name": "stdout",
          "text": [
            "(160,)\n"
          ]
        }
      ]
    },
    {
      "cell_type": "code",
      "source": [
        "print(Y_train)"
      ],
      "metadata": {
        "colab": {
          "base_uri": "https://localhost:8080/"
        },
        "id": "TKODVpHpMJvo",
        "outputId": "c3d153fe-1aaf-4d3a-bbf3-42493e45dcde"
      },
      "execution_count": 11,
      "outputs": [
        {
          "output_type": "stream",
          "name": "stdout",
          "text": [
            "[22.1 10.4  9.3 18.5 12.9  7.2 11.8 13.2  4.8 10.6  8.6 17.4  9.2  9.7\n",
            " 19.  22.4 12.5 24.4 11.3 14.6 18.  12.5  5.6 15.5  9.7 12.  15.  15.9\n",
            " 18.9 10.5 21.4 11.9  9.6 17.4  9.5 12.8 25.4 14.7 10.1 21.5 16.6 17.1\n",
            " 20.7 12.9  8.5 14.9 10.6 23.2 14.8  9.7 11.4 10.7 22.6 21.2 20.2 23.7\n",
            "  5.5 13.2 23.8 18.4  8.1 24.2 15.7 14.  18.   9.3  9.5 13.4 18.9 22.3\n",
            " 18.3 12.4  8.8 11.  17.   8.7  6.9 14.2  5.3 11.  11.8 12.3 11.3 13.6\n",
            " 21.7 15.2 12.  16.  12.9 16.7 11.2  7.3 19.4 22.2 11.5 16.9 11.7 15.5\n",
            " 25.4 17.2 11.7 23.8 14.8 14.7 20.7 19.2  7.2  8.7  5.3 19.8 13.4 21.8\n",
            " 14.1 15.9 14.6 12.6 12.2  9.4 15.9  6.6 15.5  7.  11.6 15.2 19.7 10.6\n",
            "  6.6  8.8 24.7  9.7  1.6 12.7  5.7 19.6 10.8 11.6  9.5 20.8  9.6 20.7\n",
            " 10.9 19.2 20.1 10.4 11.4 10.3 13.2 25.4 10.9 10.1 16.1 11.6 16.6 19.\n",
            " 15.6  3.2 15.3 10.1  7.3 12.9]\n"
          ]
        }
      ]
    },
    {
      "cell_type": "code",
      "source": [
        "import matplotlib.pyplot as plt\n",
        "fig, ax = plt.subplots(1, 3, figsize=(10, 5))\n",
        "ax[0].scatter(X_train[:, 0], Y_train[:])\n",
        "ax[0].set_xlabel('TV')\n",
        "ax[0].set_ylabel('Sales')\n",
        "\n",
        "ax[1].scatter(X_train[:, 1], Y_train[:])\n",
        "ax[1].set_xlabel('Radio')\n",
        "\n",
        "ax[2].scatter(X_train[:, 2], Y_train[:])\n",
        "ax[2].set_xlabel('Newspaper')"
      ],
      "metadata": {
        "colab": {
          "base_uri": "https://localhost:8080/",
          "height": 483
        },
        "id": "sapcdPUSMMpy",
        "outputId": "a320085c-d812-401c-bc77-4f2c59c44f99"
      },
      "execution_count": 12,
      "outputs": [
        {
          "output_type": "execute_result",
          "data": {
            "text/plain": [
              "Text(0.5, 0, 'Newspaper')"
            ]
          },
          "metadata": {},
          "execution_count": 12
        },
        {
          "output_type": "display_data",
          "data": {
            "text/plain": [
              "<Figure size 1000x500 with 3 Axes>"
            ],
            "image/png": "[encoded data removed]"
          },
          "metadata": {}
        }
      ]
    },
    {
      "cell_type": "code",
      "source": [
        "def pred(w, x, b):\n",
        "  result = np.dot(w,x)+b\n",
        "  return result"
      ],
      "metadata": {
        "id": "v6TToaIXOBjV"
      },
      "execution_count": 13,
      "outputs": []
    },
    {
      "cell_type": "code",
      "source": [
        "def cost_function(w, X, Y, b, m):\n",
        "  cost = 0\n",
        "  for i in range(m):\n",
        "    prediction = pred(w, X[i, :], b)\n",
        "    cost += (prediction-Y[i,])**2\n",
        "  cost = cost/(2*m)\n",
        "  return cost"
      ],
      "metadata": {
        "id": "sLbzsLT3VNtF"
      },
      "execution_count": 14,
      "outputs": []
    },
    {
      "cell_type": "code",
      "source": [
        "print(X_train[0, :])"
      ],
      "metadata": {
        "colab": {
          "base_uri": "https://localhost:8080/"
        },
        "id": "7BP6YutRWCZJ",
        "outputId": "6d1eb8b9-7b6f-47b8-c898-679ae99789c3"
      },
      "execution_count": 16,
      "outputs": [
        {
          "output_type": "stream",
          "name": "stdout",
          "text": [
            "[230.1  37.8  69.2]\n"
          ]
        }
      ]
    },
    {
      "cell_type": "code",
      "source": [
        "print(Y_train[0])"
      ],
      "metadata": {
        "colab": {
          "base_uri": "https://localhost:8080/"
        },
        "id": "6MbGclqoWskf",
        "outputId": "e9cee175-4025-4e53-b379-0d4c953b1005"
      },
      "execution_count": 17,
      "outputs": [
        {
          "output_type": "stream",
          "name": "stdout",
          "text": [
            "22.1\n"
          ]
        }
      ]
    },
    {
      "cell_type": "code",
      "source": [
        "w = [0, 0, 0]\n",
        "b = 0"
      ],
      "metadata": {
        "id": "M9i6jpubW01K"
      },
      "execution_count": 19,
      "outputs": []
    },
    {
      "cell_type": "code",
      "source": [
        "m = len(X_train)\n",
        "J = cost_function(w, X_train, Y_train, b, m)\n",
        "print(J)"
      ],
      "metadata": {
        "colab": {
          "base_uri": "https://localhost:8080/"
        },
        "id": "HX7okXh9XQnC",
        "outputId": "e9073d7b-a851-4bd2-d85d-de6f46fe2d55"
      },
      "execution_count": 20,
      "outputs": [
        {
          "output_type": "stream",
          "name": "stdout",
          "text": [
            "112.48953125000003\n"
          ]
        }
      ]
    },
    {
      "cell_type": "code",
      "source": [
        "prediction = pred(w, X_train[0, :], b)\n",
        "print(prediction)"
      ],
      "metadata": {
        "colab": {
          "base_uri": "https://localhost:8080/"
        },
        "id": "GXMD_FRTb07h",
        "outputId": "4b1fe922-dcc1-45ad-85bd-a0f37dc52fa6"
      },
      "execution_count": 24,
      "outputs": [
        {
          "output_type": "stream",
          "name": "stdout",
          "text": [
            "0.0\n"
          ]
        }
      ]
    },
    {
      "cell_type": "code",
      "source": [
        "w = [0.1,0.1,0.1]\n",
        "b = 0.1\n",
        "J = cost_function(w, X_train, Y_train, b, m)\n",
        "print(J)"
      ],
      "metadata": {
        "colab": {
          "base_uri": "https://localhost:8080/"
        },
        "id": "pJ_xMdphXcn1",
        "outputId": "69a7f067-84c3-47be-ec29-266176488949"
      },
      "execution_count": 26,
      "outputs": [
        {
          "output_type": "stream",
          "name": "stdout",
          "text": [
            "31.623090000000012\n"
          ]
        }
      ]
    },
    {
      "cell_type": "code",
      "source": [
        "def compute_gradient(X, Y, w, b):\n",
        "  m,n = X.shape\n",
        "  dj_dw = np.zeros((n,))\n",
        "  dj_db = 0\n",
        "  for i in range(m):\n",
        "    error = pred(w, X[i, :], b) - Y[i]\n",
        "    dj_db += error\n",
        "    for j in range(n):\n",
        "      dj_dw[j] = dj_dw[j] + error * X[i, j]\n",
        "  dj_dw = dj_dw/m\n",
        "  dj_db = dj_db/m\n",
        "  return dj_dw, dj_db"
      ],
      "metadata": {
        "id": "PY1QTaWPcrU2"
      },
      "execution_count": 27,
      "outputs": []
    },
    {
      "cell_type": "code",
      "source": [
        "import math\n",
        "def gradient_descent(X, Y, w, b, alpha, cost_function, gradient_function, iters):\n",
        "  J_history = []\n",
        "  m,n = X.shape\n",
        "  for i in range(iters):\n",
        "    # gradient descent\n",
        "    dj_dw, dj_db = gradient_function(X, Y, w, b)\n",
        "    w = w - alpha * dj_dw\n",
        "    b = b - alpha * dj_db\n",
        "\n",
        "    # cost function\n",
        "    J = cost_function(w, X, Y, b, m)\n",
        "    if i<10000:\n",
        "      J_history.append(J)\n",
        "    if (i% math.ceil(iters / 20) == 0):\n",
        "      print(f\"iters: {i:4d}, J: {J_history[-1]:8.2f}\")\n",
        "  return w, b, J_history"
      ],
      "metadata": {
        "id": "dKCGW_fXkKky"
      },
      "execution_count": 35,
      "outputs": []
    },
    {
      "cell_type": "code",
      "source": [
        "m,n = X_train.shape\n",
        "w = np.zeros((n,))\n",
        "alpha = 5.0e-7\n",
        "iters = 2000\n",
        "w_final, b_final, J_hist = gradient_descent(X_train, Y_train, w, b, alpha, cost_function, compute_gradient, iters)\n",
        "print(f\"final b and final w: {b_final:0.2f},{w_final} \")\n",
        "m,_ = X_train.shape\n",
        "for i in range(5):\n",
        "    print(f\"prediction: {np.dot(X_train[i], w_final) + b_final:0.2f}, target value: {Y_train[i]}\")"
      ],
      "metadata": {
        "colab": {
          "base_uri": "https://localhost:8080/"
        },
        "id": "_GTLiy0xnq2h",
        "outputId": "2216c959-24c2-4552-f534-8d8f1b0f105a"
      },
      "execution_count": 36,
      "outputs": [
        {
          "output_type": "stream",
          "name": "stdout",
          "text": [
            "iters:    0, J:   108.16\n",
            "iters:  100, J:    14.29\n",
            "iters:  200, J:     8.86\n",
            "iters:  300, J:     8.22\n",
            "iters:  400, J:     7.86\n",
            "iters:  500, J:     7.54\n",
            "iters:  600, J:     7.25\n",
            "iters:  700, J:     6.98\n",
            "iters:  800, J:     6.72\n",
            "iters:  900, J:     6.49\n",
            "iters: 1000, J:     6.27\n",
            "iters: 1100, J:     6.07\n",
            "iters: 1200, J:     5.88\n",
            "iters: 1300, J:     5.70\n",
            "iters: 1400, J:     5.54\n",
            "iters: 1500, J:     5.39\n",
            "iters: 1600, J:     5.25\n",
            "iters: 1700, J:     5.11\n",
            "iters: 1800, J:     4.99\n",
            "iters: 1900, J:     4.87\n",
            "final b and final w: 0.10,[0.06834635 0.06439177 0.05111693] \n",
            "prediction: 21.80, target value: 22.1\n",
            "prediction: 7.98, target value: 10.4\n",
            "prediction: 7.78, target value: 9.3\n",
            "prediction: 16.11, target value: 18.5\n",
            "prediction: 16.14, target value: 12.9\n"
          ]
        }
      ]
    },
    {
      "cell_type": "code",
      "source": [],
      "metadata": {
        "id": "KIapGZIwofuk"
      },
      "execution_count": null,
      "outputs": []
    }
  ]
}